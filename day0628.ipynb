{
  "nbformat": 4,
  "nbformat_minor": 0,
  "metadata": {
    "colab": {
      "name": "day0628",
      "provenance": [],
      "authorship_tag": "ABX9TyOJ4dVzQjZDlWzDS0t8hSu9",
      "include_colab_link": true
    },
    "kernelspec": {
      "name": "python3",
      "display_name": "Python 3"
    },
    "language_info": {
      "name": "python"
    }
  },
  "cells": [
    {
      "cell_type": "markdown",
      "metadata": {
        "id": "view-in-github",
        "colab_type": "text"
      },
      "source": [
        "<a href=\"https://colab.research.google.com/github/seoseonho/R_lecture/blob/main/day0628.ipynb\" target=\"_parent\"><img src=\"https://colab.research.google.com/assets/colab-badge.svg\" alt=\"Open In Colab\"/></a>"
      ]
    },
    {
      "cell_type": "markdown",
      "source": [
        "#반복문 복습\n",
        "- for loop and while loop"
      ],
      "metadata": {
        "id": "ZkHv7yghp8RI"
      }
    },
    {
      "cell_type": "code",
      "source": [
        "for i in range(3):\n",
        "  print(\"Hello World\")\n",
        "  print(\"안녕하세여\")"
      ],
      "metadata": {
        "colab": {
          "base_uri": "https://localhost:8080/"
        },
        "id": "dz3AU0oLqC2U",
        "outputId": "db45b3ea-fdeb-49a5-a84b-dce1e7d71b21"
      },
      "execution_count": null,
      "outputs": [
        {
          "output_type": "stream",
          "name": "stdout",
          "text": [
            "Hello World\n",
            "안녕하세여\n",
            "Hello World\n",
            "안녕하세여\n",
            "Hello World\n",
            "안녕하세여\n"
          ]
        }
      ]
    },
    {
      "cell_type": "code",
      "source": [
        "# \"K\" in \"Kaggle\"\n",
        "if \"K\" == \"a\"\n",
        "print(출력이 안되나여?)"
      ],
      "metadata": {
        "colab": {
          "base_uri": "https://localhost:8080/"
        },
        "id": "7rAMwZsPrRG9",
        "outputId": "c2c51548-b700-4e64-d019-ca17b4a16902"
      },
      "execution_count": null,
      "outputs": [
        {
          "output_type": "execute_result",
          "data": {
            "text/plain": [
              "False"
            ]
          },
          "metadata": {},
          "execution_count": 9
        }
      ]
    },
    {
      "cell_type": "code",
      "source": [
        "a = \"Kaggle\"\n",
        "\n",
        "for i in a:\n",
        "  print(i)\n",
        "  if i == \"a\":\n",
        "    break\n",
        "  print(\"Hello World\")\n",
        "  print(\"안녕하세여\")"
      ],
      "metadata": {
        "id": "so-h04WpqPGb"
      },
      "execution_count": null,
      "outputs": []
    },
    {
      "cell_type": "markdown",
      "source": [
        "- 리스트의 값이 존재\n",
        "- 존"
      ],
      "metadata": {
        "id": "_RVc4kNir9js"
      }
    },
    {
      "cell_type": "code",
      "source": [
        "numbers = [1, 2, 3, 4, 5]\n",
        "sum = 0\n",
        "\n",
        "for num in numbers:\n",
        "  print(\"numbers:\", num)\n",
        "  sum = sum + num\n",
        "  print(\"total:\", sum)\n",
        "\n",
        "print(\"----최종 결괏값---\")\n",
        "print(sum)"
      ],
      "metadata": {
        "id": "OLq2HzissBmD"
      },
      "execution_count": null,
      "outputs": []
    },
    {
      "cell_type": "code",
      "source": [
        "fruits = ['apple', 'kiwi', 'mango']\n",
        "newlist = []\n",
        "\n",
        "# apple : a가 있나요? 있네요, newlist에 추가하세요.\n",
        "# kiwi : a가 있나요? 없네요. 그럼 넘어가요\n",
        "# mango : a가 있나요? 있네요. newlist에 추가하세요.\n",
        "for fruit in fruits:\n",
        "  print(\"조건문 밖 :\", fruit)\n",
        "  if \"a\" in fruit:\n",
        "    print(\"조건문 안쪽 :\", fruit)\n",
        "    newlist.append(fruit)\n",
        "\n",
        "print(newlist)"
      ],
      "metadata": {
        "colab": {
          "base_uri": "https://localhost:8080/"
        },
        "id": "BY73nlaCtPOW",
        "outputId": "8349db4c-ff8f-49dc-a4bd-82848bddc170"
      },
      "execution_count": null,
      "outputs": [
        {
          "output_type": "stream",
          "name": "stdout",
          "text": [
            "조건문 밖 : apple\n",
            "조건문 안쪽 : apple\n",
            "조건문 밖 : kiwi\n",
            "조건문 밖 : mango\n",
            "조건문 안쪽 : mango\n",
            "['apple', 'mango']\n"
          ]
        }
      ]
    },
    {
      "cell_type": "markdown",
      "source": [
        "### While Loop"
      ],
      "metadata": {
        "id": "KNK3N0IMvLSe"
      }
    },
    {
      "cell_type": "markdown",
      "source": [
        "while문 : 분석할 때? 거의 쓸일이 없음"
      ],
      "metadata": {
        "id": "YZ3BArPZwvCm"
      }
    },
    {
      "cell_type": "code",
      "source": [
        "i = 1\n",
        "while i < 10: #참일때만 반복문 코드가 돔\n",
        "  # 코드\n",
        "  print(i) \n",
        "  i += 1 # 1씩 증감\n",
        "   #i -= 1 # 1씩 감소"
      ],
      "metadata": {
        "colab": {
          "base_uri": "https://localhost:8080/"
        },
        "id": "yYl_1p2xvTW8",
        "outputId": "3f4ec132-1cbc-44ea-c4af-71c638ee41ec"
      },
      "execution_count": null,
      "outputs": [
        {
          "output_type": "stream",
          "name": "stdout",
          "text": [
            "1\n",
            "2\n",
            "3\n",
            "4\n",
            "5\n",
            "6\n",
            "7\n",
            "8\n",
            "9\n"
          ]
        }
      ]
    },
    {
      "cell_type": "markdown",
      "source": [
        "## 사용자 정의 함수\n",
        "- 내가 필요에 의해 직접 함수를 작성\n",
        "- "
      ],
      "metadata": {
        "id": "s07vMZ-CwGhv"
      }
    },
    {
      "cell_type": "code",
      "source": [
        "def 함수명(param1, param2):\n",
        "  #코드\n",
        "  return None"
      ],
      "metadata": {
        "id": "G7XT_we2xePm"
      },
      "execution_count": null,
      "outputs": []
    },
    {
      "cell_type": "code",
      "source": [
        "def add(a = 0, b = 1):\n",
        "  c = a+b\n",
        "  return a + b\n",
        "\n",
        "print(add(a = 5, b =4))\n",
        "print(add())"
      ],
      "metadata": {
        "colab": {
          "base_uri": "https://localhost:8080/"
        },
        "id": "2Lg8dGKrxolN",
        "outputId": "5ee04a79-6b5b-49e9-b530-fdd7fc518d01"
      },
      "execution_count": null,
      "outputs": [
        {
          "output_type": "stream",
          "name": "stdout",
          "text": [
            "9\n",
            "1\n"
          ]
        }
      ]
    },
    {
      "cell_type": "markdown",
      "source": [
        "-사칙연산 사용자 정의 함수 만들기\n",
        "- 함수 문서화\n",
        "  + 키워드 : Docstring"
      ],
      "metadata": {
        "id": "mXj2cMA708gG"
      }
    },
    {
      "cell_type": "code",
      "source": [
        "def seo(a , b ):\n",
        "  \"\"\"a, b를 더하는 함수\n",
        "\n",
        "  parameters:\n",
        "  a (int): int형 숫자 a가 입력\n",
        "\n",
        "  b (int): int형 숫자 b가 입력\n",
        "\n",
        "  Returns:\n",
        "    int : 반환값\n",
        "\n",
        "  \"\"\"\n",
        "  return a - b\n",
        "  \n",
        "print(seo(a = 1,b = 6))\n",
        "print(seo.__doc__)"
      ],
      "metadata": {
        "id": "lYYLJlAi1CFW"
      },
      "execution_count": null,
      "outputs": []
    },
    {
      "cell_type": "markdown",
      "source": [
        "## Numpy\n",
        "- 내장 모듈(=라이브러리=패키지)\n",
        "(x)\n",
        "- 별도 라이브러리 설치 필요"
      ],
      "metadata": {
        "id": "EPgZF8Js9WSQ"
      }
    },
    {
      "cell_type": "code",
      "source": [
        "import numpy as np\n",
        "print(np.__version__)"
      ],
      "metadata": {
        "colab": {
          "base_uri": "https://localhost:8080/"
        },
        "id": "_APd1HBiD5yQ",
        "outputId": "fe506025-6144-4bc3-fb70-d82a46728a7f"
      },
      "execution_count": 26,
      "outputs": [
        {
          "output_type": "stream",
          "name": "stdout",
          "text": [
            "1.21.6\n"
          ]
        }
      ]
    },
    {
      "cell_type": "code",
      "source": [
        "tepm = [1, 2, 3,]\n",
        "tepm_array = np.array(temp) # 리스트에서 배열로 변환\n",
        "\n",
        "print(type(tepm))\n",
        "print"
      ],
      "metadata": {
        "id": "aJQFB2zEEOgJ"
      },
      "execution_count": null,
      "outputs": []
    },
    {
      "cell_type": "markdown",
      "source": [
        "##사칙연산\n"
      ],
      "metadata": {
        "id": "JpIs_dYNEjVK"
      }
    },
    {
      "cell_type": "code",
      "source": [
        "math_score = [90, 80 ,100]\n",
        "eng_score = [80, 90 ,100]\n",
        "\n",
        "# math_score + eng_score\n",
        "math_array = np. array(math_score)\n",
        "eng_array = np. array(eng_score)\n",
        "\n",
        "total = math_array + eng_array\n",
        "print(total)\n",
        "print(type(total))"
      ],
      "metadata": {
        "colab": {
          "base_uri": "https://localhost:8080/"
        },
        "id": "pv0lTBEUElMS",
        "outputId": "48e70175-fd17-4429-caad-77dadf9a796c"
      },
      "execution_count": 28,
      "outputs": [
        {
          "output_type": "stream",
          "name": "stdout",
          "text": [
            "[170 170 200]\n",
            "<class 'numpy.ndarray'>\n"
          ]
        }
      ]
    },
    {
      "cell_type": "markdown",
      "source": [
        "# 집계함"
      ],
      "metadata": {
        "id": "muP3SsdGFhyi"
      }
    },
    {
      "cell_type": "code",
      "source": [
        "print(np.min(total))\n",
        "print(np.max(total))\n",
        "print(np.sum(total))"
      ],
      "metadata": {
        "colab": {
          "base_uri": "https://localhost:8080/"
        },
        "id": "YAofminsFjQ5",
        "outputId": "501922d6-e126-462b-b2d3-54898ff20596"
      },
      "execution_count": 30,
      "outputs": [
        {
          "output_type": "stream",
          "name": "stdout",
          "text": [
            "170\n",
            "200\n",
            "540\n"
          ]
        }
      ]
    },
    {
      "cell_type": "markdown",
      "source": [
        "# 차원 확인\n",
        "-배열의 차운 확인 필요"
      ],
      "metadata": {
        "id": "8PrA7iSQF5B6"
      }
    },
    {
      "cell_type": "code",
      "source": [
        "# 1차원 배열 생성\n",
        "temp_arr = np.array([1, 2, 3])\n",
        "print(temp_arr.shape)\n",
        "print(temp_arr.ndim)"
      ],
      "metadata": {
        "colab": {
          "base_uri": "https://localhost:8080/"
        },
        "id": "-WuX359yF8zx",
        "outputId": "88de439f-6ef4-42bf-d35a-3c5a6140de25"
      },
      "execution_count": null,
      "outputs": [
        {
          "output_type": "stream",
          "name": "stdout",
          "text": [
            "(3,)\n",
            "1\n"
          ]
        }
      ]
    },
    {
      "cell_type": "code",
      "source": [
        "# 2차원 배열 생섬\n",
        "temp_arr = np.array([[1, 2, 3], [4, 5, 6]])\n",
        "print(temp_arr.shape)\n",
        "print(temp_arr. ndim)\n",
        "print(temp_arr)"
      ],
      "metadata": {
        "colab": {
          "base_uri": "https://localhost:8080/"
        },
        "id": "RUZ_d-9lGaNb",
        "outputId": "65091fc5-3047-4f1f-bfcb-7df33c7b78d4"
      },
      "execution_count": null,
      "outputs": [
        {
          "output_type": "stream",
          "name": "stdout",
          "text": [
            "(2, 3)\n",
            "2\n",
            "[[1 2 3]\n",
            " [4 5 6]]\n"
          ]
        }
      ]
    },
    {
      "cell_type": "code",
      "source": [
        "# 3차원 배열 -> 이미지\n",
        "temp_arr = np.array([[[1, 2, 3], [4, 5, 6]], [[7, 8, 9], [10 ,11 ,12]]])\n",
        "print(temp_arr.shape)\n",
        "print(temp_arr.ndim)\n",
        "print(temp_arr)"
      ],
      "metadata": {
        "colab": {
          "base_uri": "https://localhost:8080/"
        },
        "id": "JbEC1faCHK4d",
        "outputId": "a91692e7-8511-422e-8dcd-002d0a29d31f"
      },
      "execution_count": 37,
      "outputs": [
        {
          "output_type": "stream",
          "name": "stdout",
          "text": [
            "(2, 2, 3)\n",
            "3\n",
            "[[[ 1  2  3]\n",
            "  [ 4  5  6]]\n",
            "\n",
            " [[ 7  8  9]\n",
            "  [10 11 12]]]\n"
          ]
        }
      ]
    },
    {
      "cell_type": "markdown",
      "source": [
        ""
      ],
      "metadata": {
        "id": "R_JVqHCX5w4p"
      }
    },
    {
      "cell_type": "code",
      "source": [
        "temp_arr = np.zeros((3, 3, 3))\n",
        "temp_arr"
      ],
      "metadata": {
        "colab": {
          "base_uri": "https://localhost:8080/"
        },
        "id": "_HTPDs2qsZIO",
        "outputId": "11a8e9bf-aae1-4647-90c2-fadde4c40870"
      },
      "execution_count": 31,
      "outputs": [
        {
          "output_type": "execute_result",
          "data": {
            "text/plain": [
              "array([[[0., 0., 0.],\n",
              "        [0., 0., 0.],\n",
              "        [0., 0., 0.]],\n",
              "\n",
              "       [[0., 0., 0.],\n",
              "        [0., 0., 0.],\n",
              "        [0., 0., 0.]],\n",
              "\n",
              "       [[0., 0., 0.],\n",
              "        [0., 0., 0.],\n",
              "        [0., 0., 0.]]])"
            ]
          },
          "metadata": {},
          "execution_count": 31
        }
      ]
    },
    {
      "cell_type": "markdown",
      "source": [
        "- 모두 1로 채운다\n"
      ],
      "metadata": {
        "id": "MuZIGDabssx3"
      }
    },
    {
      "cell_type": "code",
      "source": [
        "temp_arr = np.ones((2,3))\n",
        "temp_arr"
      ],
      "metadata": {
        "id": "9tA8Zs0TtUmu"
      },
      "execution_count": null,
      "outputs": []
    },
    {
      "cell_type": "markdown",
      "source": [
        "- 임의의 산수값으로 채운다.\n"
      ],
      "metadata": {
        "id": "L7M-lH7RtJXm"
      }
    },
    {
      "cell_type": "code",
      "source": [
        "temp_arr = np.full((3,3), 100)\n",
        "temp_arr"
      ],
      "metadata": {
        "colab": {
          "base_uri": "https://localhost:8080/"
        },
        "id": "Effv2VPqsvY9",
        "outputId": "cc13f22f-440f-4570-e1c5-9e035bd317d7"
      },
      "execution_count": 34,
      "outputs": [
        {
          "output_type": "execute_result",
          "data": {
            "text/plain": [
              "array([[100, 100, 100],\n",
              "       [100, 100, 100],\n",
              "       [100, 100, 100]])"
            ]
          },
          "metadata": {},
          "execution_count": 34
        }
      ]
    },
    {
      "cell_type": "markdown",
      "source": [
        "- 최소, 최대 숫자의 범위를 정해두고, 각 구간별로 값을 생성"
      ],
      "metadata": {
        "id": "25Y_VSPUtYMu"
      }
    },
    {
      "cell_type": "code",
      "source": [
        "temp_arr = np.linspace(5, 10, 10)\n",
        "temp_arr"
      ],
      "metadata": {
        "colab": {
          "base_uri": "https://localhost:8080/"
        },
        "id": "AMaJn9Onteyl",
        "outputId": "39cc726f-5cbe-43c2-8386-96a3e9d3dd7a"
      },
      "execution_count": 35,
      "outputs": [
        {
          "output_type": "execute_result",
          "data": {
            "text/plain": [
              "array([ 5.        ,  5.55555556,  6.11111111,  6.66666667,  7.22222222,\n",
              "        7.77777778,  8.33333333,  8.88888889,  9.44444444, 10.        ])"
            ]
          },
          "metadata": {},
          "execution_count": 35
        }
      ]
    },
    {
      "cell_type": "markdown",
      "source": [
        "- 반복문 시, 자주 등장하는 배"
      ],
      "metadata": {
        "id": "D59AWyqHtuZt"
      }
    },
    {
      "cell_type": "code",
      "source": [
        "temp_arr = np.arange(1, 11, 1)\n",
        "temp_arr"
      ],
      "metadata": {
        "colab": {
          "base_uri": "https://localhost:8080/"
        },
        "id": "V7MWWr1StxZ2",
        "outputId": "7e65705c-32bf-4374-a1c6-4f86bdbc63ac"
      },
      "execution_count": 36,
      "outputs": [
        {
          "output_type": "execute_result",
          "data": {
            "text/plain": [
              "array([ 1,  2,  3,  4,  5,  6,  7,  8,  9, 10])"
            ]
          },
          "metadata": {},
          "execution_count": 36
        }
      ]
    },
    {
      "cell_type": "markdown",
      "source": [
        "## 난수 새성\n"
      ],
      "metadata": {
        "id": "QYLeeNRnuCP-"
      }
    },
    {
      "cell_type": "code",
      "source": [
        "from numpy import random\n",
        "x = random.rand()\n",
        "print(x)"
      ],
      "metadata": {
        "colab": {
          "base_uri": "https://localhost:8080/"
        },
        "id": "RBPaKEk2uEM2",
        "outputId": "b43fa87d-e16e-4158-df43-a356bbc26e67"
      },
      "execution_count": 10,
      "outputs": [
        {
          "output_type": "stream",
          "name": "stdout",
          "text": [
            "0.7302033222515089\n"
          ]
        }
      ]
    },
    {
      "cell_type": "code",
      "source": [
        "import numpy\n",
        "x = numpy . random. rand()\n",
        "print(x)"
      ],
      "metadata": {
        "colab": {
          "base_uri": "https://localhost:8080/"
        },
        "id": "bYdrvKmxupPV",
        "outputId": "eb3c6448-7dc1-4c93-eaf3-6fd22e0c413c"
      },
      "execution_count": 11,
      "outputs": [
        {
          "output_type": "stream",
          "name": "stdout",
          "text": [
            "0.20947760824145267\n"
          ]
        }
      ]
    },
    {
      "cell_type": "markdown",
      "source": [
        "- 랜덤 정수값 추출"
      ],
      "metadata": {
        "id": "o5y53GJzvLP_"
      }
    },
    {
      "cell_type": "code",
      "source": [
        "from numpy import random\n",
        "x = random.randint(100, size = (5))\n",
        "print(x)\n",
        "print(type(x))"
      ],
      "metadata": {
        "colab": {
          "base_uri": "https://localhost:8080/"
        },
        "id": "whAMFx8Du0IG",
        "outputId": "06607389-f5d8-4933-a081-61f83268229a"
      },
      "execution_count": 14,
      "outputs": [
        {
          "output_type": "stream",
          "name": "stdout",
          "text": [
            "[20 29 24 33 17]\n",
            "<class 'numpy.ndarray'>\n"
          ]
        }
      ]
    },
    {
      "cell_type": "markdown",
      "source": [
        "- 랜덤 배열, 실수값 추출"
      ],
      "metadata": {
        "id": "0oSO5Exgv8xG"
      }
    },
    {
      "cell_type": "code",
      "source": [
        "from numpy import random\n",
        "x = random.rand(2, 5)\n",
        "print(x)\n",
        "print(type(x))"
      ],
      "metadata": {
        "colab": {
          "base_uri": "https://localhost:8080/"
        },
        "id": "PASMNyhKv0Vm",
        "outputId": "2bb3de15-c24b-42b4-b0a3-6bbc24b10af1"
      },
      "execution_count": 15,
      "outputs": [
        {
          "output_type": "stream",
          "name": "stdout",
          "text": [
            "[[0.1334899  0.57181872 0.55790487 0.91432572 0.58810285]\n",
            " [0.71250157 0.242012   0.15704999 0.71087509 0.12661234]]\n",
            "<class 'numpy.ndarray'>\n"
          ]
        }
      ]
    },
    {
      "cell_type": "markdown",
      "source": [
        "## Numpy 사칙 연"
      ],
      "metadata": {
        "id": "YPB3rV27wN4H"
      }
    },
    {
      "cell_type": "code",
      "source": [
        "import numpy as np\n",
        "array_01 = np.array([1, 2, 3])\n",
        "array_02 = np. array([10, 20, 30])"
      ],
      "metadata": {
        "id": "Ig9PmquFwRTm"
      },
      "execution_count": 16,
      "outputs": []
    },
    {
      "cell_type": "code",
      "source": [
        "# 덧셈\n",
        "newArr = np.add(array_01, array_02)\n",
        "print(newArr)\n"
      ],
      "metadata": {
        "id": "wpEeN15fwg1P"
      },
      "execution_count": null,
      "outputs": []
    },
    {
      "cell_type": "markdown",
      "source": [
        "## 소수점 정렬\n",
        "-소수점을 정렬하는 다양한 방"
      ],
      "metadata": {
        "id": "p21sK2UUxzDX"
      }
    },
    {
      "cell_type": "code",
      "source": [
        "import numpy as np\n",
        "temp_arr = np.trunc([-1.23, 1.23])\n",
        "print(temp_arr)\n",
        "\n",
        "temp_arr = np.fix([-1.23, 1.23])\n",
        "print(temp_arr)"
      ],
      "metadata": {
        "colab": {
          "base_uri": "https://localhost:8080/"
        },
        "id": "kwWxrcFKx3Vf",
        "outputId": "0ca90c91-07e1-48be-aa51-e1462a97b179"
      },
      "execution_count": 19,
      "outputs": [
        {
          "output_type": "stream",
          "name": "stdout",
          "text": [
            "[-1.  1.]\n",
            "[-1.  1.]\n"
          ]
        }
      ]
    },
    {
      "cell_type": "code",
      "source": [
        "# 임의의 소숫점 자리에서 반올림\n",
        "temp_arr = np.around([-1.23454435345, 1.234532525], 5)\n",
        "print(temp_arr)"
      ],
      "metadata": {
        "colab": {
          "base_uri": "https://localhost:8080/"
        },
        "id": "UL54C3wXyQnf",
        "outputId": "b05e9aec-3266-4885-cce2-0b8f6107c81b"
      },
      "execution_count": 22,
      "outputs": [
        {
          "output_type": "stream",
          "name": "stdout",
          "text": [
            "[-1.23454  1.23453]\n"
          ]
        }
      ]
    },
    {
      "cell_type": "code",
      "source": [
        "#  소숫점 모두 내림\n",
        "temp_arr = np.floor([-1.23454435345, 1.234532525])\n",
        "print(temp_arr)"
      ],
      "metadata": {
        "colab": {
          "base_uri": "https://localhost:8080/"
        },
        "id": "rC_NaMLzyiL3",
        "outputId": "bf6d3918-2ee3-4b9e-81a6-da5321e7e42d"
      },
      "execution_count": 23,
      "outputs": [
        {
          "output_type": "stream",
          "name": "stdout",
          "text": [
            "[-1.23454  1.23453]\n"
          ]
        }
      ]
    },
    {
      "cell_type": "code",
      "source": [
        "#  소숫점 모두 올림\n",
        "temp_arr = np.ceil([-1.23454435345, 1.234532525])\n",
        "print(temp_arr)"
      ],
      "metadata": {
        "colab": {
          "base_uri": "https://localhost:8080/"
        },
        "id": "ajJOyqv2vcXv",
        "outputId": "90fbd393-6b0d-41de-8adf-b46002b7f261"
      },
      "execution_count": 25,
      "outputs": [
        {
          "output_type": "stream",
          "name": "stdout",
          "text": [
            "[-1.  2.]\n"
          ]
        }
      ]
    },
    {
      "cell_type": "markdown",
      "source": [
        "## 조건식\n",
        "- pandas 가공\n",
        "- numpy\n",
        "-조건식 \n",
        "  + 하나의 조건식 = np.arange(10)\n",
        "  + 다중 조건식"
      ],
      "metadata": {
        "id": "wk9U9PRv3enL"
      }
    },
    {
      "cell_type": "code",
      "source": [
        "temp_arr = np.arange(10)\n",
        "temp_arr"
      ],
      "metadata": {
        "colab": {
          "base_uri": "https://localhost:8080/"
        },
        "id": "dkGoDtXu3dmy",
        "outputId": "98556dbe-2e07-4a2d-b762-af1dc079bb1d"
      },
      "execution_count": 39,
      "outputs": [
        {
          "output_type": "execute_result",
          "data": {
            "text/plain": [
              "array([0, 1, 2, 3, 4, 5, 6, 7, 8, 9])"
            ]
          },
          "metadata": {},
          "execution_count": 39
        }
      ]
    },
    {
      "cell_type": "code",
      "source": [
        "# 5보다 작으면 원 값 유지\n",
        "# 5보다 크면 곱하기 10을 해줌"
      ],
      "metadata": {
        "id": "dlwxq3SR391I"
      },
      "execution_count": 40,
      "outputs": []
    },
    {
      "cell_type": "code",
      "source": [
        "# np. where(조건식, 참일 때, 거짓일 때)\n",
        "np.where(temp_arr < 5, temp_arr, temp_arr * 10)\n"
      ],
      "metadata": {
        "colab": {
          "base_uri": "https://localhost:8080/"
        },
        "id": "rx3vwAri4Ob4",
        "outputId": "73c9662d-1214-4e35-ae42-fbf8abe9f2d6"
      },
      "execution_count": 42,
      "outputs": [
        {
          "output_type": "execute_result",
          "data": {
            "text/plain": [
              "array([ 0,  1,  2,  3,  4, 50, 60, 70, 80, 90])"
            ]
          },
          "metadata": {},
          "execution_count": 42
        }
      ]
    },
    {
      "cell_type": "code",
      "source": [
        "temp_arr = np.arange(100)\n",
        "# temp_arr\n",
        "cond_list = [temp_arr >5, temp_arr <2]\n",
        "choice_list = [temp_arr *2, temp_arr + 100]\n",
        "\n",
        "# np.select(조건식 리스트, 결괏값 리스트, default =)\n",
        "np.select(cond_list, choice_list, default = temp_arr)"
      ],
      "metadata": {
        "colab": {
          "base_uri": "https://localhost:8080/"
        },
        "id": "LLKBkuhz5Ich",
        "outputId": "af9d38dc-4925-4a95-c6b6-2f621a4906ea"
      },
      "execution_count": 47,
      "outputs": [
        {
          "output_type": "execute_result",
          "data": {
            "text/plain": [
              "array([100, 101,   2,   3,   4,   5,  12,  14,  16,  18,  20,  22,  24,\n",
              "        26,  28,  30,  32,  34,  36,  38,  40,  42,  44,  46,  48,  50,\n",
              "        52,  54,  56,  58,  60,  62,  64,  66,  68,  70,  72,  74,  76,\n",
              "        78,  80,  82,  84,  86,  88,  90,  92,  94,  96,  98, 100, 102,\n",
              "       104, 106, 108, 110, 112, 114, 116, 118, 120, 122, 124, 126, 128,\n",
              "       130, 132, 134, 136, 138, 140, 142, 144, 146, 148, 150, 152, 154,\n",
              "       156, 158, 160, 162, 164, 166, 168, 170, 172, 174, 176, 178, 180,\n",
              "       182, 184, 186, 188, 190, 192, 194, 196, 198])"
            ]
          },
          "metadata": {},
          "execution_count": 47
        }
      ]
    },
    {
      "cell_type": "markdown",
      "source": [
        "## Reshape\n",
        "-배열의 차원 또는 크기를\n",
        "바꾼다.\n",
        "- 곱셈만 할줄 알면 끝."
      ],
      "metadata": {
        "id": "zq-t7Puw6bMR"
      }
    },
    {
      "cell_type": "code",
      "source": [
        "import numpy as np\n",
        "temp_array = np.ones((3, 4))\n",
        "print(temp_array.shape)\n",
        "print(temp_array)"
      ],
      "metadata": {
        "colab": {
          "base_uri": "https://localhost:8080/"
        },
        "id": "xHtrvr4N6vZo",
        "outputId": "240151f1-d162-4fe2-c58f-20a5ca8b4ac5"
      },
      "execution_count": 50,
      "outputs": [
        {
          "output_type": "stream",
          "name": "stdout",
          "text": [
            "(3, 4)\n",
            "[[1. 1. 1. 1.]\n",
            " [1. 1. 1. 1.]\n",
            " [1. 1. 1. 1.]]\n"
          ]
        }
      ]
    },
    {
      "cell_type": "code",
      "source": [
        "after_reshape = temp_array.reshape(1, 12)\n",
        "print(after_reshape.shape)\n",
        "print(after_reshape)"
      ],
      "metadata": {
        "colab": {
          "base_uri": "https://localhost:8080/"
        },
        "id": "gDJvrOKx7ABj",
        "outputId": "a5c502a1-26cf-4bab-e31a-16548b5bd6cd"
      },
      "execution_count": 52,
      "outputs": [
        {
          "output_type": "stream",
          "name": "stdout",
          "text": [
            "(1, 12)\n",
            "[[1. 1. 1. 1. 1. 1. 1. 1. 1. 1. 1. 1.]]\n"
          ]
        }
      ]
    },
    {
      "cell_type": "code",
      "source": [
        "after_reshape = temp_array.reshape(2, 2, 3)\n",
        "print(after_reshape.shape)\n",
        "print(after_reshape)"
      ],
      "metadata": {
        "colab": {
          "base_uri": "https://localhost:8080/"
        },
        "id": "Efj5h6SW7Xq3",
        "outputId": "64c6dc53-36da-41d5-85a6-a895ad95a26b"
      },
      "execution_count": 58,
      "outputs": [
        {
          "output_type": "stream",
          "name": "stdout",
          "text": [
            "(2, 2, 3)\n",
            "[[[1. 1. 1.]\n",
            "  [1. 1. 1.]]\n",
            "\n",
            " [[1. 1. 1.]\n",
            "  [1. 1. 1.]]]\n"
          ]
        }
      ]
    },
    {
      "cell_type": "code",
      "source": [
        "after_reshape = temp_array.reshape(2, -1)\n",
        "print(after_reshape.shape)\n",
        "print(after_reshape)"
      ],
      "metadata": {
        "colab": {
          "base_uri": "https://localhost:8080/"
        },
        "id": "ucCquaM173oh",
        "outputId": "e2ae60b5-9a1e-4044-a45e-23b123d34dd2"
      },
      "execution_count": 61,
      "outputs": [
        {
          "output_type": "stream",
          "name": "stdout",
          "text": [
            "(2, 6)\n",
            "[[1. 1. 1. 1. 1. 1.]\n",
            " [1. 1. 1. 1. 1. 1.]]\n"
          ]
        }
      ]
    },
    {
      "cell_type": "markdown",
      "source": [
        "# pandas 튜토리"
      ],
      "metadata": {
        "id": "M_T9AaDrIIyY"
      }
    },
    {
      "cell_type": "code",
      "source": [
        "import pandas as pd\n",
        "print(pd.__version__)"
      ],
      "metadata": {
        "colab": {
          "base_uri": "https://localhost:8080/"
        },
        "id": "RIwrZaIJILi1",
        "outputId": "c38fde1d-fd4a-4d4e-8568-6144564e7335"
      },
      "execution_count": 63,
      "outputs": [
        {
          "output_type": "stream",
          "name": "stdout",
          "text": [
            "1.3.5\n"
          ]
        }
      ]
    },
    {
      "cell_type": "code",
      "source": [
        "temp_dict = {\n",
        "    'col1' : [1, 2],\n",
        "    'col2' : [3 ,4]\n",
        "}\n",
        "\n",
        "df =pd.DataFrame(temp_dict)\n",
        "print(df)\n",
        "print(type(df))"
      ],
      "metadata": {
        "colab": {
          "base_uri": "https://localhost:8080/"
        },
        "id": "dNkGCgklITH0",
        "outputId": "56a5fe5e-f7b6-42a4-ecb6-ed724b013e03"
      },
      "execution_count": 64,
      "outputs": [
        {
          "output_type": "stream",
          "name": "stdout",
          "text": [
            "   col1  col2\n",
            "0     1     3\n",
            "1     2     4\n",
            "<class 'pandas.core.frame.DataFrame'>\n"
          ]
        }
      ]
    },
    {
      "cell_type": "markdown",
      "source": [
        "## 구글 드라이브 연동\n"
      ],
      "metadata": {
        "id": "LQyIYe9lJSBk"
      }
    },
    {
      "cell_type": "code",
      "source": [
        "from google.colab import drive\n",
        "drive.mount('/content/drive')"
      ],
      "metadata": {
        "colab": {
          "base_uri": "https://localhost:8080/"
        },
        "id": "f3DVsmUsJUX8",
        "outputId": "919ab852-a460-41c3-e892-d8c624834606"
      },
      "execution_count": 66,
      "outputs": [
        {
          "output_type": "stream",
          "name": "stdout",
          "text": [
            "Mounted at /content/drive\n"
          ]
        }
      ]
    },
    {
      "cell_type": "code",
      "source": [
        "DATA_PATH ='/content/drive/MyDrive/Colab Notebooks/human_AI/Basic/Chapter 3. pandas/data/'\n",
        "lemonade = pd.read_csv(DATA_PATH + 'Lemonade2016.csv')\n",
        "# covid df = pd.read_csv(DATA_PATH + 'owid-covid-data.csv')\n",
        "\n",
        "lemonade.info()"
      ],
      "metadata": {
        "colab": {
          "base_uri": "https://localhost:8080/"
        },
        "id": "EMvRyISCK6e9",
        "outputId": "c8746d65-851e-46f7-fbf5-6dc99a1e0999"
      },
      "execution_count": 72,
      "outputs": [
        {
          "output_type": "stream",
          "name": "stdout",
          "text": [
            "<class 'pandas.core.frame.DataFrame'>\n",
            "RangeIndex: 32 entries, 0 to 31\n",
            "Data columns (total 7 columns):\n",
            " #   Column       Non-Null Count  Dtype  \n",
            "---  ------       --------------  -----  \n",
            " 0   Date         31 non-null     object \n",
            " 1   Location     32 non-null     object \n",
            " 2   Lemon        32 non-null     int64  \n",
            " 3   Orange       32 non-null     int64  \n",
            " 4   Temperature  32 non-null     int64  \n",
            " 5   Leaflets     31 non-null     float64\n",
            " 6   Price        32 non-null     float64\n",
            "dtypes: float64(2), int64(3), object(2)\n",
            "memory usage: 1.9+ KB\n"
          ]
        }
      ]
    }
  ]
}